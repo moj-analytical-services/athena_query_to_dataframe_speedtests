{
 "cells": [
  {
   "cell_type": "code",
   "execution_count": null,
   "metadata": {},
   "outputs": [],
   "source": [
    "import pandas as pd \n",
    "import time\n",
    "\n",
    "start = time.time()\n",
    "\n",
    "df = pd.read_csv(\"/Users/robinlinacre/Downloads/speedtest_df.csv\")\n",
    "end = time.time()\n",
    "print(end - start)\n",
    "\n",
    "df.to_parquet(\"testdata.parquet\")\n",
    "\n",
    "del df\n",
    "start = time.time()\n",
    "\n",
    "df = pd.read_parquet(\"testdata.parquet\")\n",
    "end = time.time()\n",
    "print(end - start)\n",
    "\n",
    "df.head()\n",
    "\n",
    "# Put data into a sqlite database\n",
    "from sqlite3 import connect\n",
    "conn = connect(\"mydb.db\")\n",
    "df.to_sql(\"df\",conn, index=False)\n",
    "\n",
    "\n",
    "start = time.time()\n",
    "sql = \"\"\"\n",
    "select * from df\n",
    "\"\"\"\n",
    "df = pd.read_sql(sql, conn)\n",
    "end = time.time()\n",
    "print(end - start)\n"
   ]
  }
 ],
 "metadata": {
  "kernelspec": {
   "display_name": "Python 3",
   "language": "python",
   "name": "python3"
  },
  "language_info": {
   "codemirror_mode": {
    "name": "ipython",
    "version": 3
   },
   "file_extension": ".py",
   "mimetype": "text/x-python",
   "name": "python",
   "nbconvert_exporter": "python",
   "pygments_lexer": "ipython3",
   "version": "3.6.3"
  }
 },
 "nbformat": 4,
 "nbformat_minor": 2
}
