{
 "cells": [
  {
   "cell_type": "code",
   "execution_count": null,
   "metadata": {},
   "outputs": [],
   "source": [
    "from original_dbtools import get_athena_query_response\n",
    "del df \n",
    "start = time.time()\n",
    "sql = \"\"\"\n",
    "select * from \n",
    "flights_demo.flights_raw\n",
    "limit 10000000\n",
    "\"\"\"\n",
    "df = get_athena_query_response(sql, \"s3://alpha-everyone/platform_demos/performance/flights_db/__athena_temp__/deleteagain\")\n",
    "end = time.time()\n",
    "print(end - start)"
   ]
  }
 ],
 "metadata": {
  "kernelspec": {
   "display_name": "Python 3",
   "language": "python",
   "name": "python3"
  },
  "language_info": {
   "codemirror_mode": {
    "name": "ipython",
    "version": 3
   },
   "file_extension": ".py",
   "mimetype": "text/x-python",
   "name": "python",
   "nbconvert_exporter": "python",
   "pygments_lexer": "ipython3",
   "version": "3.6.3"
  }
 },
 "nbformat": 4,
 "nbformat_minor": 2
}
